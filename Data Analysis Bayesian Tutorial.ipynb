{
 "cells": [
  {
   "cell_type": "markdown",
   "id": "093bf7e4",
   "metadata": {},
   "source": [
    "# Data Analysis A Bayesian Tutorial\n",
    "\n",
    "working out of Second Edition by D.S. Sivia\n"
   ]
  },
  {
   "cell_type": "markdown",
   "id": "e79cc53a",
   "metadata": {},
   "source": [
    "Baye's Theorem: \n",
    "$$\\begin{equation}\n",
    "\\label{eq:bayes}\n",
    "P(\\theta|\\textbf{D},I) = P(D|\\theta,I ) \\frac{P(\\theta| I)}{P(\\textbf{D}| I)}\n",
    "\\end{equation}$$\n",
    "Where $\\theta$ is a parameter in a model described by I and D is the data.\n",
    "\n",
    "In the case of beginning with a set of data points $(x_i,y_i\\pm \\sigma_y)$, where the uncertainty on y is a constant for each data point. y_i also has some error in the measurement, desrcibed by a Gaussian around the true value $\\hat{y_i}$ and the uncertainty on $\\sigma_y$.\n",
    "\n",
    "In other words, $y_i=\\hat{y_i}+\\epsilon$ and $\\epsilon$ follows a Normal distribution about $\\hat{y_i}$.\n",
    "\n",
    "It is known that the relationship between the true values that we are trying to measure is $\\hat{y_i}=f(\\hat{x_i})=a\\hat{x_i}+b.$ a and b are the parameters that I will try to estimate using Baye's theorem. \n",
    "\n",
    "The probability of getting a value $y_i$ given $x_i$,a, and b is then given by a Gaussian:\n",
    "\n",
    "$P(y_i|x_i,a,b,I)=N(ax_i+b,\\sigma_y)$\n",
    "\n",
    "If I assume a flat prior (no inital preference for the values of a and b) since I have not seen the data, the prior term can be neglected. Further, if I am estimating parameters and do not care about the true value of $P(\\theta|\\textbf{D},I)$ then the evidence can also be neglected. \n",
    "\n",
    "This yields $P(\\theta|\\textbf{D},I) = P(D|\\theta,I )$\n",
    "This is the beauty of Baye's theorem since it will be easier to determine the evidence than the posterior.\n",
    "\n",
    "For each data point k in the N amount of data the likelihood can be calculated. For the overall likelihood these can be multiplied. \n",
    "Solving analytically, one can find that \n",
    "$P(\\theta|\\textbf{D},I) = P(D|\\theta,I )=\\prod_{k=1}^{N}\\frac{1}{\\sigma_y\\sqrt{2\\pi}}\\exp(\\frac{-(y_k-(ax_k+b))^2}{2\\sigma_y})$\n",
    "\n",
    "Now that I know my probability distribution for a given data, I simply need to find the a and b parameters in my model that make this most likely. This turns it into a $\\chi^2$ minimization problem. If I take the logarithm of P I get:\n",
    "$L(\\theta|\\textbf{D},I) = L(D|\\theta,I )=\\sum_{k=1}^{N}constant+(\\frac{-(y_k-(ax_k+b))^2}{2\\sigma_y})=\\sum_{k=1}^{N}constant+\\chi^2$"
   ]
  },
  {
   "cell_type": "code",
   "execution_count": 92,
   "id": "0a0c44dd",
   "metadata": {},
   "outputs": [],
   "source": [
    "import numpy as np\n",
    "import matplotlib.pyplot as plt"
   ]
  },
  {
   "cell_type": "code",
   "execution_count": 93,
   "id": "d1a0971b",
   "metadata": {},
   "outputs": [],
   "source": [
    "#set parameters, arrays\n",
    "a=2\n",
    "b=3\n",
    "sig_y=0.05\n",
    "data_len=10\n",
    "y_i=np.zeros(data_len)\n",
    "x_i=np.zeros(data_len)\n",
    "\n",
    "def y_hat(x_i):\n",
    "    return(a*x_i+b)\n",
    "\n",
    "pi=np.pi\n",
    "e=np.e"
   ]
  },
  {
   "cell_type": "code",
   "execution_count": 94,
   "id": "c7f2dd01",
   "metadata": {},
   "outputs": [],
   "source": [
    "#create my Gaussian\n",
    "def gauss(x,y_data,sig_y,a,b):\n",
    "    return(1/(sig_y*np.sqrt(2*pi))*e**(-(y_data-(a*x+b))**2/(2*sig_y)))"
   ]
  },
  {
   "cell_type": "code",
   "execution_count": 95,
   "id": "59b88dce",
   "metadata": {},
   "outputs": [
    {
     "name": "stdout",
     "output_type": "stream",
     "text": [
      "mean is 13\n"
     ]
    },
    {
     "data": {
      "image/png": "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\n",
      "text/plain": [
       "<Figure size 432x288 with 1 Axes>"
      ]
     },
     "metadata": {
      "needs_background": "light"
     },
     "output_type": "display_data"
    }
   ],
   "source": [
    "#what does this look like?\n",
    "y_data=np.linspace(0,a*15)\n",
    "x_test=5\n",
    "g=gauss(x_test,y_data, sig_y,a,b)\n",
    "plt.plot(y_data,g)\n",
    "plt.xlabel(\"y value for given x\")\n",
    "plt.ylabel(\"probability\")\n",
    "print(\"mean is\", a*x_test+b)\n"
   ]
  },
  {
   "cell_type": "markdown",
   "id": "d1893b6a",
   "metadata": {},
   "source": [
    "So now I have a gaussian that my noise for each data point should follow. For each point $x_k,y_k$ I will know $x_i$ but y_i will be drawn from this gaussian. "
   ]
  },
  {
   "cell_type": "code",
   "execution_count": 96,
   "id": "115045fe",
   "metadata": {},
   "outputs": [],
   "source": [
    "#create my x array, going to choose even spacing\n",
    "x_i=np.arange(0,data_len)"
   ]
  },
  {
   "cell_type": "code",
   "execution_count": 97,
   "id": "0e268d74",
   "metadata": {},
   "outputs": [],
   "source": [
    "from numpy import random\n",
    "for i in range(len(x_i)):\n",
    "    mean=a*x_i[i]+b\n",
    "    sigma=sig_y\n",
    "\n",
    "    s = np.random.normal(mean, sigma, 1)\n",
    "    y_i[i]=s\n",
    "    \n",
    "#print(y_i)\n",
    "\n"
   ]
  },
  {
   "cell_type": "code",
   "execution_count": 98,
   "id": "77d213e7",
   "metadata": {},
   "outputs": [
    {
     "data": {
      "text/plain": [
       "Text(0.5, 0, 'x')"
      ]
     },
     "execution_count": 98,
     "metadata": {},
     "output_type": "execute_result"
    },
    {
     "data": {
      "image/png": "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\n",
      "text/plain": [
       "<Figure size 432x288 with 1 Axes>"
      ]
     },
     "metadata": {
      "needs_background": "light"
     },
     "output_type": "display_data"
    }
   ],
   "source": [
    "plt.plot(x_i,y_hat(x_i), label=\"true y value\")\n",
    "plt.errorbar(x_i,y_i, yerr=sig_y, fmt='o', label=\"measured value\")\n",
    "plt.legend()\n",
    "plt.ylabel(\"y\")\n",
    "plt.xlabel(\"x\")"
   ]
  },
  {
   "cell_type": "markdown",
   "id": "7d79a11d",
   "metadata": {},
   "source": [
    "#now I need to fit for my unkown a and b parameter (this assumes I did not know a and b that generated my data)\n",
    "#essentially I am going to be performing a chi^2 test\n",
    "#this can be done analytically for this simple problem by taking derivatives of p\n",
    "#here I am showing a numerical solution"
   ]
  },
  {
   "cell_type": "code",
   "execution_count": 99,
   "id": "521205d1",
   "metadata": {},
   "outputs": [],
   "source": [
    "a_guess=np.linspace(a*0.8,a*1.2,500)\n",
    "b_guess=np.linspace(b*0.8,b*1.2,400)\n",
    "\n",
    "aa,bb=np.meshgrid(a_guess,b_guess)\n",
    "chi2vals = np.zeros(np.prod(aa.shape))\n",
    "\n",
    "\n",
    "def chi2(a_val, b_val,x_i,y_i,sig_y):\n",
    "    val=np.sum(((y_i-(a_val*x_i+b_val))/(sig_y))**2 )\n",
    "    return val\n",
    "\n",
    "# for i in range(len(a_guess)-1):\n",
    "#     for j in range(len(b_guess)-1):\n",
    "#         chi2valstest[i][j]=chi2(a_guess[i],b_guess[j],x_i,y_i,sig_y)\n",
    "\n",
    "for i,(ai,bi) in enumerate(zip(aa.flatten(),bb.flatten())):\n",
    "    chi2vals[i]=chi2(ai,bi,x_i,y_i,sig_y)\n",
    "    \n"
   ]
  },
  {
   "cell_type": "code",
   "execution_count": 100,
   "id": "3693d37f",
   "metadata": {},
   "outputs": [
    {
     "data": {
      "text/plain": [
       "Text(0, 0.5, 'b')"
      ]
     },
     "execution_count": 100,
     "metadata": {},
     "output_type": "execute_result"
    },
    {
     "data": {
      "image/png": "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\n",
      "text/plain": [
       "<Figure size 432x288 with 2 Axes>"
      ]
     },
     "metadata": {
      "needs_background": "light"
     },
     "output_type": "display_data"
    }
   ],
   "source": [
    "# cp=ax.contour(a_guess,b_guess, chi2vals)\n",
    "\n",
    "# ax.clabel(cp, inline=True, \n",
    "#           fontsize=10)\n",
    "\n",
    "\n",
    "cp = plt.contourf(aa, bb, np.exp(-0.5*chi2vals.reshape(aa.shape)), levels = 1000)\n",
    "plt.colorbar(cp)\n",
    "#plt.imshow(a_guess, b_guess, chi2vals, cmap='hot')\n",
    "# import seaborn as sns\n",
    "#ax=sns.heatmap(chi2vals)\n",
    "plt.scatter(a,b, marker='+', c='r', lw = 0.9)\n",
    "plt.xlabel(\"a\")\n",
    "plt.ylabel(\"b\")\n",
    "# plt.title(\"$\\chi^2$ values for a and b\")"
   ]
  },
  {
   "cell_type": "markdown",
   "id": "381ba256",
   "metadata": {},
   "source": [
    "So, as we can see $\\chi^2$ is minimized at the correct value of a and b, but this minimization occurs over a very long range. Next, I will test how our uncertainty effects this. If $\\sigma_y$ is smaller will our parameters be more well constrained?"
   ]
  },
  {
   "cell_type": "markdown",
   "id": "97fcd572",
   "metadata": {},
   "source": [
    "Surprisingly (are you really *that* surprised? -Ste-), this did not improve our constraint on a and b. \n",
    "\n",
    "I may have errors in this code.  (you definitely have. everyone has)\n"
   ]
  },
  {
   "cell_type": "code",
   "execution_count": 101,
   "id": "31921233",
   "metadata": {},
   "outputs": [],
   "source": [
    "#after this point still working on "
   ]
  },
  {
   "cell_type": "code",
   "execution_count": 102,
   "id": "8f68b63d",
   "metadata": {},
   "outputs": [],
   "source": [
    "#code from Walter Del Pozzo\n",
    "def FindHeightForLevel(inArr, adLevels):\n",
    "   \"\"\"\n",
    "   Computes the height of a :math:`2D` function for given levels\n",
    "\n",
    "   :param inArr: function values\n",
    "   :type inArr: array\n",
    "   :param adLevels: levels\n",
    "   :type adLevels: list or array\n",
    "\n",
    "   :return: function values with levels closest to *levels*\n",
    "   :rtype: array\n",
    "   \"\"\"\n",
    "\n",
    "   # flatten the array\n",
    "   oldshape = np.shape(inArr)\n",
    "   adInput  = np.reshape(inArr,oldshape[0]*oldshape[1])\n",
    "   #adInput=inArr\n",
    "\n",
    "   # get array specifics\n",
    "   nLength  = np.size(adInput)\n",
    "\n",
    "   # create reversed sorted list\n",
    "   adTemp   = -1.0 * adInput\n",
    "   adSorted = np.sort(adTemp)\n",
    "   adSorted = -1.0 * adSorted\n",
    "\n",
    "   # create the normalised cumulative distribution\n",
    "   adCum    = np.zeros(nLength)\n",
    "   adCum[0] = adSorted[0]\n",
    "\n",
    "   for i in range(1,nLength):\n",
    "       adCum[i] = np.logaddexp(adCum[i-1], adSorted[i])\n",
    "\n",
    "   adCum    = adCum - adCum[-1]\n",
    "\n",
    "   # find the values closest to levels\n",
    "   adHeights = []\n",
    "   for item in adLevels:\n",
    "       idx = (np.abs(adCum-np.log(item))).argmin()\n",
    "       adHeights.append(adSorted[idx])\n",
    "\n",
    "   adHeights = np.array(adHeights)\n",
    "   return np.sort(adHeights)"
   ]
  },
  {
   "cell_type": "code",
   "execution_count": 103,
   "id": "a34cde94",
   "metadata": {},
   "outputs": [
    {
     "name": "stdout",
     "output_type": "stream",
     "text": [
      "[28595.93942484]\n",
      "28595.93942483971\n"
     ]
    }
   ],
   "source": [
    "levelval=(FindHeightForLevel(chi2vals.reshape(aa.shape),[0.9]))\n",
    "print(levelval)\n",
    "levelval=(levelval[0])\n",
    "print(levelval)\n"
   ]
  }
 ],
 "metadata": {
  "kernelspec": {
   "display_name": "Python 3 (ipykernel)",
   "language": "python",
   "name": "python3"
  },
  "language_info": {
   "codemirror_mode": {
    "name": "ipython",
    "version": 3
   },
   "file_extension": ".py",
   "mimetype": "text/x-python",
   "name": "python",
   "nbconvert_exporter": "python",
   "pygments_lexer": "ipython3",
   "version": "3.9.7"
  }
 },
 "nbformat": 4,
 "nbformat_minor": 5
}

#test test
